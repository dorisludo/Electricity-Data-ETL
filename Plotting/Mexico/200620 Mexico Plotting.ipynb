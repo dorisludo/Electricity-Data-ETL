{
 "cells": [
  {
   "cell_type": "code",
   "execution_count": 1,
   "metadata": {},
   "outputs": [],
   "source": [
    "import glob\n",
    "import pandas as pd\n",
    "import os\n",
    "import matplotlib.pyplot as plt\n",
    "import seaborn as sns"
   ]
  },
  {
   "cell_type": "code",
   "execution_count": 192,
   "metadata": {},
   "outputs": [],
   "source": [
    "files = sorted(glob.glob(\"/Users/Doris/Downloads/Electri/Chile/Clean/*\"))"
   ]
  },
  {
   "cell_type": "code",
   "execution_count": 193,
   "metadata": {},
   "outputs": [],
   "source": [
    "myli = []\n",
    "for file in files:\n",
    "    df_tri = pd.read_csv(file)\n",
    "    myli.append(df_tri)\n",
    "\n",
    "dffin = pd.concat(myli, sort = False)"
   ]
  },
  {
   "cell_type": "code",
   "execution_count": 174,
   "metadata": {},
   "outputs": [],
   "source": [
    "dffin = dffin[['Date', 'Area', 'Hora', 'Generacion (MWh)','Estimacion de Demanda por Balance (MWh)']]"
   ]
  },
  {
   "cell_type": "markdown",
   "metadata": {},
   "source": [
    "# 2016 Plot"
   ]
  },
  {
   "cell_type": "code",
   "execution_count": 175,
   "metadata": {},
   "outputs": [],
   "source": [
    "tri6 = dffin[dffin['Date'] <= '2016-12-31']"
   ]
  },
  {
   "cell_type": "code",
   "execution_count": 176,
   "metadata": {},
   "outputs": [
    {
     "name": "stderr",
     "output_type": "stream",
     "text": [
      "/Users/Doris/PycharmProjects/Honors/venv/lib/python3.7/site-packages/ipykernel_launcher.py:1: SettingWithCopyWarning: \n",
      "A value is trying to be set on a copy of a slice from a DataFrame.\n",
      "Try using .loc[row_indexer,col_indexer] = value instead\n",
      "\n",
      "See the caveats in the documentation: http://pandas.pydata.org/pandas-docs/stable/user_guide/indexing.html#returning-a-view-versus-a-copy\n",
      "  \"\"\"Entry point for launching an IPython kernel.\n"
     ]
    }
   ],
   "source": [
    "tri6['Month'] = pd.DatetimeIndex(tri6['Date']).month"
   ]
  },
  {
   "cell_type": "code",
   "execution_count": 200,
   "metadata": {},
   "outputs": [
    {
     "name": "stdout",
     "output_type": "stream",
     "text": [
      "BCA, 12 Months\n",
      "BCA does not have hourly load data for all days in month 1\n",
      "BCA does not have hourly load data for all days in month 2\n",
      "2016-03-13\n",
      "2016-11-06\n",
      "CEN, 12 Months\n",
      "CEN does not have hourly load data for all days in month 1\n",
      "CEN does not have hourly load data for all days in month 2\n",
      "2016-04-03\n",
      "2016-10-30\n",
      "NES, 12 Months\n",
      "NES does not have hourly load data for all days in month 1\n",
      "NES does not have hourly load data for all days in month 2\n",
      "2016-04-03\n",
      "2016-10-30\n",
      "NOR, 12 Months\n",
      "NOR does not have hourly load data for all days in month 1\n",
      "NOR does not have hourly load data for all days in month 2\n",
      "2016-04-03\n",
      "2016-10-30\n",
      "NTE, 12 Months\n",
      "NTE does not have hourly load data for all days in month 1\n",
      "NTE does not have hourly load data for all days in month 2\n",
      "2016-04-03\n",
      "2016-10-30\n",
      "OCC, 12 Months\n",
      "OCC does not have hourly load data for all days in month 1\n",
      "OCC does not have hourly load data for all days in month 2\n",
      "2016-04-03\n",
      "2016-10-30\n",
      "ORI, 12 Months\n",
      "ORI does not have hourly load data for all days in month 1\n",
      "ORI does not have hourly load data for all days in month 2\n",
      "2016-04-03\n",
      "2016-10-30\n",
      "PEN, 12 Months\n",
      "PEN does not have hourly load data for all days in month 1\n",
      "PEN does not have hourly load data for all days in month 2\n",
      "2016-04-03\n",
      "2016-10-30\n",
      "BCS, Data Incomplete\n",
      "BCS does not have hourly load data for all days in month 3\n",
      "2016-04-03\n",
      "2016-10-30\n"
     ]
    }
   ],
   "source": [
    "fig,ax = plt.subplots(18,6, figsize = (100,100))\n",
    "axes = ax.ravel()\n",
    "hai = 0\n",
    "\n",
    "for region in tri6.Area.unique():\n",
    "    datap = tri6[tri6['Area'] == region]\n",
    "    if len(datap.Month.unique()) == 12:\n",
    "        print(region+', 12 Months')\n",
    "    elif len(datap.Month.unique()) != 12:\n",
    "        print(region+', Data Incomplete')\n",
    "    for mon in datap.Month.unique():\n",
    "        datapm = datap[datap['Month'] == mon]\n",
    "        if mon != 1 or mon != 2:\n",
    "            if len(datapm.Date.unique()) < 30:\n",
    "                print(region,'does not have hourly load data for all days in month',mon)\n",
    "        for day in datapm.Date.unique():\n",
    "            datet = datapm[datapm['Date'] == day]\n",
    "            if len(datet.Hora) != 24:\n",
    "                print(day)\n",
    "        a = sns.lineplot(y = 'Estimacion de Demanda por Balance (MWh)', x = 'Hora', hue = 'Date', \n",
    "                         ax = axes[hai],data = datapm)\n",
    "        a.set_xlabel(region)\n",
    "        a.legend(bbox_to_anchor=(1.05, 1), loc=2, borderaxespad=0.,fontsize = 6)\n",
    "        hai += 1\n",
    "\n",
    "plt.show()"
   ]
  },
  {
   "cell_type": "markdown",
   "metadata": {},
   "source": [
    "# 2017 Plot"
   ]
  },
  {
   "cell_type": "code",
   "execution_count": 178,
   "metadata": {},
   "outputs": [],
   "source": [
    "tri7 = dffin[(dffin['Date'] >= '2017-01-01') & (dffin['Date'] <= '2017-12-31')]"
   ]
  },
  {
   "cell_type": "code",
   "execution_count": 179,
   "metadata": {},
   "outputs": [
    {
     "name": "stderr",
     "output_type": "stream",
     "text": [
      "/Users/Doris/PycharmProjects/Honors/venv/lib/python3.7/site-packages/ipykernel_launcher.py:1: SettingWithCopyWarning: \n",
      "A value is trying to be set on a copy of a slice from a DataFrame.\n",
      "Try using .loc[row_indexer,col_indexer] = value instead\n",
      "\n",
      "See the caveats in the documentation: http://pandas.pydata.org/pandas-docs/stable/user_guide/indexing.html#returning-a-view-versus-a-copy\n",
      "  \"\"\"Entry point for launching an IPython kernel.\n"
     ]
    }
   ],
   "source": [
    "tri7['Month'] = pd.DatetimeIndex(tri7['Date']).month"
   ]
  },
  {
   "cell_type": "code",
   "execution_count": 201,
   "metadata": {},
   "outputs": [
    {
     "name": "stdout",
     "output_type": "stream",
     "text": [
      "BCA, 12 Months\n",
      "2017-03-12\n",
      "2017-11-05\n",
      "BCS, 12 Months\n",
      "2017-04-02\n",
      "2017-10-29\n",
      "CEN, 12 Months\n",
      "2017-04-02\n",
      "2017-10-29\n",
      "NES, 12 Months\n",
      "2017-04-02\n",
      "2017-10-29\n",
      "NOR, 12 Months\n",
      "2017-04-02\n",
      "2017-10-29\n",
      "NTE, 12 Months\n",
      "2017-04-02\n",
      "2017-10-29\n",
      "OCC, 12 Months\n",
      "2017-04-02\n",
      "2017-10-29\n",
      "ORI, 12 Months\n",
      "2017-04-02\n",
      "2017-10-29\n",
      "PEN, 12 Months\n",
      "2017-04-02\n",
      "2017-10-29\n"
     ]
    }
   ],
   "source": [
    "fig,ax = plt.subplots(18,6, figsize = (100,100))\n",
    "axes = ax.ravel()\n",
    "hai = 0\n",
    "\n",
    "for region in tri7.Area.unique():\n",
    "    datap = tri7[tri7['Area'] == region]\n",
    "    if len(datap.Month.unique()) == 12:\n",
    "        print(region+', 12 Months')\n",
    "    elif len(datap.Month.unique()) != 12:\n",
    "        print(region+', Data Incomplete')\n",
    "    for mon in datap.Month.unique():\n",
    "        datapm = datap[datap['Month'] == mon]\n",
    "        if mon != 2:\n",
    "            if len(datapm.Date.unique()) < 30:\n",
    "                print(region,'does not have hourly load data for all days in month',mon)\n",
    "        for day in datapm.Date.unique():\n",
    "            datet = datapm[datapm['Date'] == day]\n",
    "            if len(datet.Hora) != 24:\n",
    "                print(day)\n",
    "        a = sns.lineplot(y = 'Estimacion de Demanda por Balance (MWh)', x = 'Hora', hue = 'Date', \n",
    "                        ax = axes[hai],data = datapm)\n",
    "        a.set_xlabel(region)\n",
    "        a.legend(bbox_to_anchor=(1.05, 1), loc=2, borderaxespad=0.,fontsize = 6)\n",
    "        hai += 1\n",
    "\n",
    "plt.show()"
   ]
  },
  {
   "cell_type": "markdown",
   "metadata": {},
   "source": [
    "# 2018 Plot"
   ]
  },
  {
   "cell_type": "code",
   "execution_count": 183,
   "metadata": {},
   "outputs": [],
   "source": [
    "tri8 = dffin[(dffin['Date'] >= '2018-01-01') & (dffin['Date'] <= '2018-12-31')]"
   ]
  },
  {
   "cell_type": "code",
   "execution_count": 184,
   "metadata": {},
   "outputs": [
    {
     "name": "stderr",
     "output_type": "stream",
     "text": [
      "/Users/Doris/PycharmProjects/Honors/venv/lib/python3.7/site-packages/ipykernel_launcher.py:1: SettingWithCopyWarning: \n",
      "A value is trying to be set on a copy of a slice from a DataFrame.\n",
      "Try using .loc[row_indexer,col_indexer] = value instead\n",
      "\n",
      "See the caveats in the documentation: http://pandas.pydata.org/pandas-docs/stable/user_guide/indexing.html#returning-a-view-versus-a-copy\n",
      "  \"\"\"Entry point for launching an IPython kernel.\n"
     ]
    }
   ],
   "source": [
    "tri8['Month'] = pd.DatetimeIndex(tri8['Date']).month"
   ]
  },
  {
   "cell_type": "code",
   "execution_count": 202,
   "metadata": {},
   "outputs": [
    {
     "name": "stdout",
     "output_type": "stream",
     "text": [
      "BCA, 12 Months\n",
      "2018-03-11\n",
      "2018-11-04\n",
      "2018-12-19\n",
      "2018-12-20\n",
      "2018-12-21\n",
      "2018-12-22\n",
      "2018-12-23\n",
      "2018-12-24\n",
      "2018-12-25\n",
      "2018-12-26\n",
      "2018-12-27\n",
      "2018-12-28\n",
      "2018-12-29\n",
      "2018-12-30\n",
      "2018-12-31\n",
      "BCS, 12 Months\n",
      "2018-04-01\n",
      "2018-10-28\n",
      "BCS does not have hourly load data for all days in month 12\n",
      "CEN, 12 Months\n",
      "2018-04-01\n",
      "2018-10-28\n",
      "NES, 12 Months\n",
      "2018-04-01\n",
      "2018-10-28\n",
      "NOR, 12 Months\n",
      "2018-04-01\n",
      "2018-10-28\n",
      "NTE, 12 Months\n",
      "2018-04-01\n",
      "2018-10-28\n",
      "OCC, 12 Months\n",
      "2018-04-01\n",
      "2018-10-28\n",
      "ORI, 12 Months\n",
      "2018-04-01\n",
      "2018-10-28\n",
      "PEN, 12 Months\n",
      "2018-04-01\n",
      "2018-10-28\n"
     ]
    }
   ],
   "source": [
    "fig,ax = plt.subplots(18,6, figsize = (100,100))\n",
    "axes = ax.ravel()\n",
    "hai = 0\n",
    "\n",
    "for region in tri8.Area.unique():\n",
    "    datap = tri8[tri8['Area'] == region]\n",
    "    if len(datap.Month.unique()) == 12:\n",
    "        print(region+', 12 Months')\n",
    "    elif len(datap.Month.unique()) != 12:\n",
    "        print(region+', Data Incomplete')\n",
    "    for mon in datap.Month.unique():\n",
    "        datapm = datap[datap['Month'] == mon]\n",
    "        if mon != 2:\n",
    "            if len(datapm.Date.unique()) < 30:\n",
    "                print(region,'does not have hourly load data for all days in month',mon)\n",
    "        for day in datapm.Date.unique():\n",
    "            datet = datapm[datapm['Date'] == day]\n",
    "            if len(datet.Hora) != 24:\n",
    "                print(day)\n",
    "        a = sns.lineplot(y = 'Estimacion de Demanda por Balance (MWh)', x = 'Hora', hue = 'Date', \n",
    "                        ax = axes[hai],data = datapm)\n",
    "        a.set_xlabel(region)\n",
    "        a.legend(bbox_to_anchor=(1.05, 1), loc=2, borderaxespad=0.,fontsize = 6)\n",
    "        hai += 1\n",
    "\n",
    "plt.show()"
   ]
  },
  {
   "cell_type": "markdown",
   "metadata": {},
   "source": [
    "# 2019 Plot"
   ]
  },
  {
   "cell_type": "code",
   "execution_count": 203,
   "metadata": {},
   "outputs": [],
   "source": [
    "tri9 = dffin[(dffin['Date'] >= '2019-01-01') & (dffin['Date'] <= '2019-12-31')]"
   ]
  },
  {
   "cell_type": "code",
   "execution_count": 204,
   "metadata": {},
   "outputs": [
    {
     "name": "stderr",
     "output_type": "stream",
     "text": [
      "/Users/Doris/PycharmProjects/Honors/venv/lib/python3.7/site-packages/ipykernel_launcher.py:1: SettingWithCopyWarning: \n",
      "A value is trying to be set on a copy of a slice from a DataFrame.\n",
      "Try using .loc[row_indexer,col_indexer] = value instead\n",
      "\n",
      "See the caveats in the documentation: http://pandas.pydata.org/pandas-docs/stable/user_guide/indexing.html#returning-a-view-versus-a-copy\n",
      "  \"\"\"Entry point for launching an IPython kernel.\n"
     ]
    }
   ],
   "source": [
    "tri9['Month'] = pd.DatetimeIndex(tri9['Date']).month"
   ]
  },
  {
   "cell_type": "code",
   "execution_count": 210,
   "metadata": {},
   "outputs": [
    {
     "name": "stdout",
     "output_type": "stream",
     "text": [
      "BCA, 12 Months\n",
      "2019-02-03\n",
      "2019-02-04\n",
      "2019-02-05\n",
      "2019-02-06\n",
      "2019-02-07\n",
      "2019-02-08\n",
      "2019-02-10\n",
      "2019-02-11\n",
      "2019-02-13\n",
      "2019-02-14\n",
      "2019-02-15\n",
      "2019-02-16\n",
      "2019-02-17\n",
      "2019-02-18\n",
      "2019-02-19\n",
      "2019-02-20\n",
      "2019-02-21\n",
      "2019-02-22\n",
      "2019-02-23\n",
      "2019-02-24\n",
      "2019-02-26\n",
      "2019-02-27\n",
      "2019-02-28\n",
      "2019-03-02\n",
      "2019-03-03\n",
      "2019-03-06\n",
      "2019-03-07\n",
      "2019-03-08\n",
      "2019-03-09\n",
      "2019-03-10\n",
      "2019-03-11\n",
      "2019-03-12\n",
      "2019-03-13\n",
      "2019-03-14\n",
      "2019-03-15\n",
      "2019-03-16\n",
      "2019-03-17\n",
      "2019-03-18\n",
      "2019-03-19\n",
      "2019-03-20\n",
      "2019-03-21\n",
      "2019-03-22\n",
      "2019-11-03\n",
      "BCS, 12 Months\n",
      "BCS does not have hourly load data for all days in month 3\n",
      "2019-04-07\n",
      "2019-10-27\n",
      "CEN, 12 Months\n",
      "2019-04-07\n",
      "2019-10-27\n",
      "NES, 12 Months\n",
      "2019-04-07\n",
      "2019-10-27\n",
      "NOR, 12 Months\n",
      "2019-04-07\n",
      "2019-10-27\n",
      "NTE, 12 Months\n",
      "2019-04-07\n",
      "2019-10-27\n",
      "OCC, 12 Months\n",
      "2019-04-07\n",
      "2019-10-27\n",
      "ORI, 12 Months\n",
      "2019-04-07\n",
      "2019-10-27\n",
      "PEN, 12 Months\n",
      "2019-04-07\n",
      "2019-10-27\n"
     ]
    }
   ],
   "source": [
    "fig,ax = plt.subplots(18,6, figsize = (100,100))\n",
    "axes = ax.ravel()\n",
    "hai = 0\n",
    "\n",
    "for region in tri9.Area.unique():\n",
    "    datap = tri9[tri9['Area'] == region]\n",
    "    if len(datap.Month.unique()) == 12:\n",
    "        print(region+', 12 Months')\n",
    "    elif len(datap.Month.unique()) != 12:\n",
    "        print(region+', Data Incomplete')\n",
    "    for mon in datap.Month.unique():\n",
    "        datapm = datap[datap['Month'] == mon]\n",
    "        if mon != 2:\n",
    "            if len(datapm.Date.unique()) < 30:\n",
    "                print(region,'does not have hourly load data for all days in month',mon)\n",
    "        for day in datapm.Date.unique():\n",
    "            datet = datapm[datapm['Date'] == day]\n",
    "            if len(datet.Hora) != 24:\n",
    "                print(day)\n",
    "        a = sns.lineplot(y = 'Estimacion de Demanda por Balance (MWh)', x = 'Hora', hue = 'Date', \n",
    "                        ax = axes[hai],data = datapm)\n",
    "        a.set_xlabel(region)\n",
    "        a.legend(bbox_to_anchor=(1.05, 1), loc=2, borderaxespad=0.,fontsize = 6)\n",
    "        hai += 1\n",
    "\n",
    "plt.show()"
   ]
  },
  {
   "cell_type": "markdown",
   "metadata": {},
   "source": [
    "# 2020 Plot"
   ]
  },
  {
   "cell_type": "code",
   "execution_count": 207,
   "metadata": {},
   "outputs": [],
   "source": [
    "tri2 = dffin[dffin['Date'] >= '2020-01-01']"
   ]
  },
  {
   "cell_type": "code",
   "execution_count": 208,
   "metadata": {},
   "outputs": [
    {
     "name": "stderr",
     "output_type": "stream",
     "text": [
      "/Users/Doris/PycharmProjects/Honors/venv/lib/python3.7/site-packages/ipykernel_launcher.py:1: SettingWithCopyWarning: \n",
      "A value is trying to be set on a copy of a slice from a DataFrame.\n",
      "Try using .loc[row_indexer,col_indexer] = value instead\n",
      "\n",
      "See the caveats in the documentation: http://pandas.pydata.org/pandas-docs/stable/user_guide/indexing.html#returning-a-view-versus-a-copy\n",
      "  \"\"\"Entry point for launching an IPython kernel.\n"
     ]
    }
   ],
   "source": [
    "tri2['Month'] = pd.DatetimeIndex(tri2['Date']).month"
   ]
  },
  {
   "cell_type": "code",
   "execution_count": 212,
   "metadata": {},
   "outputs": [
    {
     "name": "stdout",
     "output_type": "stream",
     "text": [
      "BCA, 6 Months\n",
      "2020-01-01\n",
      "2020-01-02\n",
      "2020-01-03\n",
      "2020-01-04\n",
      "2020-01-05\n",
      "2020-01-06\n",
      "2020-01-07\n",
      "2020-01-08\n",
      "2020-01-09\n",
      "2020-01-10\n",
      "2020-01-11\n",
      "2020-01-12\n",
      "2020-01-13\n",
      "2020-01-14\n",
      "2020-01-15\n",
      "2020-01-16\n",
      "2020-01-17\n",
      "2020-01-18\n",
      "2020-01-19\n",
      "2020-01-20\n",
      "2020-01-21\n",
      "2020-01-22\n",
      "2020-01-23\n",
      "2020-01-24\n",
      "2020-01-25\n",
      "2020-01-26\n",
      "2020-01-27\n",
      "2020-01-28\n",
      "2020-01-29\n",
      "2020-01-30\n",
      "2020-01-31\n",
      "BCA does not have hourly load data for all days in month 2\n",
      "2020-02-01\n",
      "2020-02-02\n",
      "2020-02-03\n",
      "2020-02-04\n",
      "2020-02-05\n",
      "2020-02-06\n",
      "2020-02-07\n",
      "2020-02-08\n",
      "2020-02-09\n",
      "2020-02-10\n",
      "2020-02-11\n",
      "2020-02-12\n",
      "2020-02-13\n",
      "2020-02-14\n",
      "2020-02-15\n",
      "2020-02-16\n",
      "2020-02-17\n",
      "2020-02-18\n",
      "2020-02-19\n",
      "2020-02-20\n",
      "2020-02-21\n",
      "2020-02-22\n",
      "2020-02-23\n",
      "2020-02-24\n",
      "2020-02-25\n",
      "2020-02-26\n",
      "2020-02-27\n",
      "2020-02-28\n",
      "2020-02-29\n",
      "2020-03-01\n",
      "2020-03-02\n",
      "2020-03-03\n",
      "2020-03-04\n",
      "2020-03-05\n",
      "2020-03-06\n",
      "2020-03-07\n",
      "2020-03-08\n",
      "2020-03-09\n",
      "2020-03-10\n",
      "2020-03-11\n",
      "2020-03-12\n",
      "2020-03-13\n",
      "2020-03-14\n",
      "2020-03-15\n",
      "2020-03-16\n",
      "2020-03-17\n",
      "2020-03-18\n",
      "2020-03-19\n",
      "2020-03-20\n",
      "2020-03-21\n",
      "2020-03-22\n",
      "2020-03-23\n",
      "2020-03-24\n",
      "2020-03-25\n",
      "2020-03-26\n",
      "2020-03-27\n",
      "2020-03-28\n",
      "2020-03-29\n",
      "2020-03-30\n",
      "2020-03-31\n",
      "2020-04-01\n",
      "2020-04-02\n",
      "2020-04-03\n",
      "2020-04-04\n",
      "2020-04-05\n",
      "2020-04-06\n",
      "2020-04-07\n",
      "2020-04-08\n",
      "2020-04-09\n",
      "2020-04-10\n",
      "2020-04-11\n",
      "2020-04-12\n",
      "2020-04-13\n",
      "2020-04-14\n",
      "2020-04-15\n",
      "2020-04-16\n",
      "2020-04-17\n",
      "2020-04-18\n",
      "2020-04-19\n",
      "2020-04-20\n",
      "2020-04-21\n",
      "2020-04-22\n",
      "2020-04-23\n",
      "2020-04-24\n",
      "2020-04-25\n",
      "2020-04-26\n",
      "2020-04-27\n",
      "2020-04-28\n",
      "2020-04-29\n",
      "2020-04-30\n",
      "2020-05-01\n",
      "2020-05-02\n",
      "2020-05-03\n",
      "2020-05-04\n",
      "2020-05-05\n",
      "2020-05-06\n",
      "2020-05-07\n",
      "2020-05-08\n",
      "2020-05-09\n",
      "2020-05-10\n",
      "2020-05-11\n",
      "2020-05-12\n",
      "2020-05-13\n",
      "2020-05-14\n",
      "2020-05-15\n",
      "2020-05-16\n",
      "2020-05-17\n",
      "2020-05-18\n",
      "2020-05-19\n",
      "2020-05-20\n",
      "2020-05-21\n",
      "2020-05-22\n",
      "2020-05-23\n",
      "2020-05-24\n",
      "2020-05-25\n",
      "2020-05-26\n",
      "2020-05-27\n",
      "2020-05-28\n",
      "2020-05-29\n",
      "2020-05-30\n",
      "2020-05-31\n",
      "BCA does not have hourly load data for all days in month 6\n",
      "2020-06-01\n",
      "2020-06-02\n",
      "2020-06-03\n",
      "2020-06-04\n",
      "2020-06-05\n",
      "CEN, 6 Months\n",
      "CEN does not have hourly load data for all days in month 2\n",
      "2020-04-05\n",
      "CEN does not have hourly load data for all days in month 6\n",
      "NES, 6 Months\n",
      "NES does not have hourly load data for all days in month 2\n",
      "2020-04-05\n",
      "NES does not have hourly load data for all days in month 6\n",
      "NOR, 6 Months\n",
      "NOR does not have hourly load data for all days in month 2\n",
      "2020-04-05\n",
      "NOR does not have hourly load data for all days in month 6\n",
      "NTE, 6 Months\n",
      "NTE does not have hourly load data for all days in month 2\n",
      "2020-04-05\n",
      "NTE does not have hourly load data for all days in month 6\n",
      "OCC, 6 Months\n",
      "OCC does not have hourly load data for all days in month 2\n",
      "2020-04-05\n",
      "OCC does not have hourly load data for all days in month 6\n",
      "ORI, 6 Months\n",
      "ORI does not have hourly load data for all days in month 2\n",
      "2020-04-05\n",
      "ORI does not have hourly load data for all days in month 6\n",
      "PEN, 6 Months\n",
      "PEN does not have hourly load data for all days in month 2\n",
      "2020-04-05\n",
      "PEN does not have hourly load data for all days in month 6\n"
     ]
    }
   ],
   "source": [
    "fig,ax = plt.subplots(8,6, figsize = (100,100))\n",
    "axes = ax.ravel()\n",
    "ha = 0\n",
    "\n",
    "for region in tri2.Area.unique():\n",
    "    datap = tri2[tri2['Area'] == region]\n",
    "    if len(datap.Month.unique()) == 6:\n",
    "        print(region+', 6 Months')\n",
    "    elif len(datap.Month.unique()) != 6:\n",
    "        print(region+', Data Incomplete')\n",
    "    for mon in datap.Month.unique():\n",
    "        datapm = datap[datap['Month'] == mon]\n",
    "        if mon != 2 or mon != 6:\n",
    "            if len(datapm.Date.unique()) < 30:\n",
    "                print(region,'does not have hourly load data for all days in month',mon)\n",
    "        for day in datapm.Date.unique():\n",
    "            datet = datapm[datapm['Date'] == day]\n",
    "            if len(datet.Hora) != 24:\n",
    "                print(day)\n",
    "        a = sns.lineplot(y = 'Estimacion de Demanda por Balance (MWh)', x = 'Hora', hue = 'Date', \n",
    "                         ax = axes[ha],data = datapm)\n",
    "        a.set_xlabel(region)\n",
    "        ha += 1\n",
    "        a.legend(bbox_to_anchor=(1.05, 1), loc=2, borderaxespad=0.,fontsize = 6)\n",
    "\n",
    "\n",
    "plt.show()"
   ]
  }
 ],
 "metadata": {
  "kernelspec": {
   "display_name": "Python 3.7.5 64-bit ('venv': venv)",
   "language": "python",
   "name": "python37564bitvenvvenve04464ff212e4c8ab1c11927f02a59de"
  },
  "language_info": {
   "codemirror_mode": {
    "name": "ipython",
    "version": 3
   },
   "file_extension": ".py",
   "mimetype": "text/x-python",
   "name": "python",
   "nbconvert_exporter": "python",
   "pygments_lexer": "ipython3",
   "version": "3.7.5"
  }
 },
 "nbformat": 4,
 "nbformat_minor": 2
}
